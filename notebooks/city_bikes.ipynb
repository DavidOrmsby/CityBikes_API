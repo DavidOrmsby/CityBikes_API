{
 "cells": [
  {
   "cell_type": "markdown",
   "metadata": {},
   "source": [
    "# CityBikes"
   ]
  },
  {
   "cell_type": "markdown",
   "metadata": {},
   "source": [
    "Send a request to CityBikes for the city of your choice. "
   ]
  },
  {
   "cell_type": "code",
   "execution_count": 1,
   "metadata": {},
   "outputs": [],
   "source": [
    "import pandas as pd\n",
    "import numpy as np\n",
    "import requests \n",
    "import json"
   ]
  },
  {
   "cell_type": "code",
   "execution_count": 4,
   "metadata": {},
   "outputs": [],
   "source": [
    "url = \"https://api.citybik.es/v2/networks/bixi-toronto\"\n",
    "\n",
    "params = {\n",
    "        \n",
    "         }\n",
    "\n",
    "headers = {\n",
    "           \n",
    "\n",
    "        }\n",
    "\n",
    "response = requests.request(\"GET\", url, params=params, headers=headers)\n"
   ]
  },
  {
   "cell_type": "markdown",
   "metadata": {},
   "source": [
    "Parse through the response to get the details you want for the bike stations in that city (latitude, longitude, number of bikes). "
   ]
  },
  {
   "cell_type": "code",
   "execution_count": 15,
   "metadata": {},
   "outputs": [],
   "source": [
    "rawdata = response.json()\n",
    "data = rawdata['network']['stations']   ## gets only the stuff we need , returns a list of one dictionary per station\n",
    "\n",
    "\n",
    "\n",
    "lat = []  # we will seperate the dictionaries into these\n",
    "long =[]\n",
    "bike = []\n",
    "i=0  ## index variable\n",
    "\n",
    "while i < len(data) :\n",
    "    lat.append( data[i]['latitude'])\n",
    "    long.append(data[i]['longitude'])\n",
    "    bike.append(data[i]['free_bikes'])\n",
    "    i=i+1\n",
    "\n",
    "\n",
    "\n"
   ]
  },
  {
   "cell_type": "markdown",
   "metadata": {},
   "source": [
    "Put your parsed results into a DataFrame."
   ]
  },
  {
   "cell_type": "code",
   "execution_count": 21,
   "metadata": {},
   "outputs": [],
   "source": [
    "## we need lat, long, and number of bikes\n",
    "df=pd.DataFrame({'Latitude': lat, 'Longitude': long, 'Free Bikes': bike})\n",
    "\n",
    "\n",
    "df.to_csv('bikedata.csv', index=False)  # save it for part 2\n"
   ]
  }
 ],
 "metadata": {
  "kernelspec": {
   "display_name": "Python 3",
   "language": "python",
   "name": "python3"
  },
  "language_info": {
   "codemirror_mode": {
    "name": "ipython",
    "version": 3
   },
   "file_extension": ".py",
   "mimetype": "text/x-python",
   "name": "python",
   "nbconvert_exporter": "python",
   "pygments_lexer": "ipython3",
   "version": "3.12.0"
  }
 },
 "nbformat": 4,
 "nbformat_minor": 4
}
