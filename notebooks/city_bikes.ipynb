{
 "cells": [
  {
   "cell_type": "markdown",
   "metadata": {},
   "source": [
    "# CityBikes"
   ]
  },
  {
   "cell_type": "markdown",
   "metadata": {},
   "source": [
    "Send a request to CityBikes for the city of your choice. "
   ]
  },
  {
   "cell_type": "code",
   "execution_count": 1,
   "metadata": {},
   "outputs": [],
   "source": [
    "import pandas as pd\n",
    "import numpy as np\n",
    "import requests \n",
    "import json"
   ]
  },
  {
   "cell_type": "code",
   "execution_count": 2,
   "metadata": {},
   "outputs": [],
   "source": [
    "url = \"https://api.citybik.es/v2/networks/bixi-toronto\"  ## This gives us the info for toronto bike stations, but the json is a bit messy\n",
    "\n",
    "params = {\n",
    "        \n",
    "         }\n",
    "\n",
    "headers = {\n",
    "           \n",
    "\n",
    "        }\n",
    "\n",
    "response = requests.request(\"GET\", url, params=params, headers=headers)\n"
   ]
  },
  {
   "cell_type": "markdown",
   "metadata": {},
   "source": [
    "Parse through the response to get the details you want for the bike stations in that city (latitude, longitude, number of bikes). "
   ]
  },
  {
   "cell_type": "code",
   "execution_count": 4,
   "metadata": {},
   "outputs": [],
   "source": [
    "rawdata = response.json()\n",
    "data = rawdata['network']['stations']   ## This will return a list of one dictionary per station\n",
    "\n",
    "\n",
    "\n",
    "lat = []  # We only need latitude,longitude,and number of available bikes so we will make 3 lists of those\n",
    "long =[]\n",
    "free_bikes = []\n",
    "station_number=[]\n",
    "i=0  ## index variable\n",
    "\n",
    "while i < len(data) :  ## iterates through the list of stations and gets our data, in the same order so it can be easily combined after\n",
    "    lat.append( data[i]['latitude'])\n",
    "    long.append(data[i]['longitude'])\n",
    "    free_bikes.append(data[i]['free_bikes'])\n",
    "    station_number.append(i)\n",
    "    i=i+1\n",
    "\n",
    "\n",
    "\n"
   ]
  },
  {
   "cell_type": "markdown",
   "metadata": {},
   "source": [
    "Put your parsed results into a DataFrame."
   ]
  },
  {
   "cell_type": "code",
   "execution_count": 14,
   "metadata": {},
   "outputs": [
    {
     "name": "stdout",
     "output_type": "stream",
     "text": [
      "     Station_Number   Latitude  Longitude  Free Bikes\n",
      "0                 0  43.665269 -79.319796           9\n",
      "1                 1  43.671420 -79.445947           6\n",
      "2                 2  43.666224 -79.317693          17\n",
      "3                 3  43.653236 -79.376716           3\n",
      "4                 4  43.663722 -79.380288           3\n",
      "..              ...        ...        ...         ...\n",
      "725             725  43.706191 -79.532628           5\n",
      "726             726  43.687355 -79.506233           1\n",
      "727             727  43.691445 -79.501546           1\n",
      "728             728  43.706738 -79.504775           1\n",
      "729             729  43.664491 -79.399434           0\n",
      "\n",
      "[730 rows x 4 columns]\n"
     ]
    }
   ],
   "source": [
    "## Now we combine those 3 lists into a dataframe, and save it to our database\n",
    "df=pd.DataFrame({'Station_Number': station_number, 'Latitude': lat, 'Longitude': long, 'Free Bikes': bike})\n",
    "print(df)\n",
    "\n"
   ]
  },
  {
   "cell_type": "code",
   "execution_count": 12,
   "metadata": {},
   "outputs": [
    {
     "data": {
      "text/plain": [
       "730"
      ]
     },
     "execution_count": 12,
     "metadata": {},
     "output_type": "execute_result"
    }
   ],
   "source": [
    "import sqlite3\n",
    "conn = sqlite3.connect('mydatabase')\n",
    "df.to_sql('bike_stations', conn, if_exists='replace', index=False, dtype={'Station_Number': ' PRIMARY KEY'})\n",
    "\n",
    "## Saves it to our sql database for later use"
   ]
  }
 ],
 "metadata": {
  "kernelspec": {
   "display_name": "Python 3",
   "language": "python",
   "name": "python3"
  },
  "language_info": {
   "codemirror_mode": {
    "name": "ipython",
    "version": 3
   },
   "file_extension": ".py",
   "mimetype": "text/x-python",
   "name": "python",
   "nbconvert_exporter": "python",
   "pygments_lexer": "ipython3",
   "version": "3.12.0"
  }
 },
 "nbformat": 4,
 "nbformat_minor": 4
}
