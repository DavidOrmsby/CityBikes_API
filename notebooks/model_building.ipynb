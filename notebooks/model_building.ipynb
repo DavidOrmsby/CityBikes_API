{
 "cells": [
  {
   "cell_type": "markdown",
   "metadata": {},
   "source": [
    "Build a regression model."
   ]
  },
  {
   "cell_type": "code",
   "execution_count": 2,
   "metadata": {},
   "outputs": [],
   "source": [
    "## Get the data back from sql and import the needed packages\n",
    "import sqlite3\n",
    "import pandas as pd\n",
    "import statsmodels.api as sm\n",
    "conn = sqlite3.connect('mydatabase')\n",
    "df = pd.read_sql('select * from bike_stations', conn)\n",
    "\n",
    "\n",
    "\n",
    "\n",
    "\n",
    "\n"
   ]
  },
  {
   "cell_type": "markdown",
   "metadata": {},
   "source": [
    "Provide model output and an interpretation of the results. "
   ]
  },
  {
   "cell_type": "code",
   "execution_count": 3,
   "metadata": {},
   "outputs": [
    {
     "data": {
      "text/html": [
       "<div>\n",
       "<style scoped>\n",
       "    .dataframe tbody tr th:only-of-type {\n",
       "        vertical-align: middle;\n",
       "    }\n",
       "\n",
       "    .dataframe tbody tr th {\n",
       "        vertical-align: top;\n",
       "    }\n",
       "\n",
       "    .dataframe thead th {\n",
       "        text-align: right;\n",
       "    }\n",
       "</style>\n",
       "<table border=\"1\" class=\"dataframe\">\n",
       "  <thead>\n",
       "    <tr style=\"text-align: right;\">\n",
       "      <th></th>\n",
       "      <th>Latitude</th>\n",
       "      <th>Longitude</th>\n",
       "      <th>Free Bikes</th>\n",
       "      <th>yelp</th>\n",
       "      <th>foursquare</th>\n",
       "    </tr>\n",
       "  </thead>\n",
       "  <tbody>\n",
       "    <tr>\n",
       "      <th>count</th>\n",
       "      <td>400.000000</td>\n",
       "      <td>400.000000</td>\n",
       "      <td>400.000000</td>\n",
       "      <td>400.000000</td>\n",
       "      <td>400.000000</td>\n",
       "    </tr>\n",
       "    <tr>\n",
       "      <th>mean</th>\n",
       "      <td>43.663902</td>\n",
       "      <td>-79.393928</td>\n",
       "      <td>7.775000</td>\n",
       "      <td>119.277500</td>\n",
       "      <td>19.247500</td>\n",
       "    </tr>\n",
       "    <tr>\n",
       "      <th>std</th>\n",
       "      <td>0.026610</td>\n",
       "      <td>0.054536</td>\n",
       "      <td>6.588467</td>\n",
       "      <td>134.082795</td>\n",
       "      <td>11.226591</td>\n",
       "    </tr>\n",
       "    <tr>\n",
       "      <th>min</th>\n",
       "      <td>43.588077</td>\n",
       "      <td>-79.543207</td>\n",
       "      <td>0.000000</td>\n",
       "      <td>0.000000</td>\n",
       "      <td>0.000000</td>\n",
       "    </tr>\n",
       "    <tr>\n",
       "      <th>25%</th>\n",
       "      <td>43.649092</td>\n",
       "      <td>-79.423644</td>\n",
       "      <td>2.750000</td>\n",
       "      <td>30.000000</td>\n",
       "      <td>10.000000</td>\n",
       "    </tr>\n",
       "    <tr>\n",
       "      <th>50%</th>\n",
       "      <td>43.660285</td>\n",
       "      <td>-79.392820</td>\n",
       "      <td>6.000000</td>\n",
       "      <td>60.000000</td>\n",
       "      <td>16.000000</td>\n",
       "    </tr>\n",
       "    <tr>\n",
       "      <th>75%</th>\n",
       "      <td>43.671637</td>\n",
       "      <td>-79.369376</td>\n",
       "      <td>12.000000</td>\n",
       "      <td>157.500000</td>\n",
       "      <td>26.000000</td>\n",
       "    </tr>\n",
       "    <tr>\n",
       "      <th>max</th>\n",
       "      <td>43.780550</td>\n",
       "      <td>-79.130120</td>\n",
       "      <td>34.000000</td>\n",
       "      <td>583.000000</td>\n",
       "      <td>50.000000</td>\n",
       "    </tr>\n",
       "  </tbody>\n",
       "</table>\n",
       "</div>"
      ],
      "text/plain": [
       "         Latitude   Longitude  Free Bikes        yelp  foursquare\n",
       "count  400.000000  400.000000  400.000000  400.000000  400.000000\n",
       "mean    43.663902  -79.393928    7.775000  119.277500   19.247500\n",
       "std      0.026610    0.054536    6.588467  134.082795   11.226591\n",
       "min     43.588077  -79.543207    0.000000    0.000000    0.000000\n",
       "25%     43.649092  -79.423644    2.750000   30.000000   10.000000\n",
       "50%     43.660285  -79.392820    6.000000   60.000000   16.000000\n",
       "75%     43.671637  -79.369376   12.000000  157.500000   26.000000\n",
       "max     43.780550  -79.130120   34.000000  583.000000   50.000000"
      ]
     },
     "execution_count": 3,
     "metadata": {},
     "output_type": "execute_result"
    }
   ],
   "source": [
    "df.describe(include='all')\n",
    "## 7.75 bikes are available on average at each station, this might be useful\n",
    "## yelp has alot more results than foursquare"
   ]
  },
  {
   "cell_type": "code",
   "execution_count": 7,
   "metadata": {},
   "outputs": [
    {
     "data": {
      "text/html": [
       "<div>\n",
       "<style scoped>\n",
       "    .dataframe tbody tr th:only-of-type {\n",
       "        vertical-align: middle;\n",
       "    }\n",
       "\n",
       "    .dataframe tbody tr th {\n",
       "        vertical-align: top;\n",
       "    }\n",
       "\n",
       "    .dataframe thead th {\n",
       "        text-align: right;\n",
       "    }\n",
       "</style>\n",
       "<table border=\"1\" class=\"dataframe\">\n",
       "  <thead>\n",
       "    <tr style=\"text-align: right;\">\n",
       "      <th></th>\n",
       "      <th>Latitude</th>\n",
       "      <th>Longitude</th>\n",
       "      <th>Free Bikes</th>\n",
       "      <th>yelp</th>\n",
       "      <th>foursquare</th>\n",
       "    </tr>\n",
       "  </thead>\n",
       "  <tbody>\n",
       "    <tr>\n",
       "      <th>Latitude</th>\n",
       "      <td>1.000000</td>\n",
       "      <td>0.428331</td>\n",
       "      <td>-0.281735</td>\n",
       "      <td>-0.234148</td>\n",
       "      <td>-0.231388</td>\n",
       "    </tr>\n",
       "    <tr>\n",
       "      <th>Longitude</th>\n",
       "      <td>0.428331</td>\n",
       "      <td>1.000000</td>\n",
       "      <td>0.046625</td>\n",
       "      <td>0.067628</td>\n",
       "      <td>-0.002248</td>\n",
       "    </tr>\n",
       "    <tr>\n",
       "      <th>Free Bikes</th>\n",
       "      <td>-0.281735</td>\n",
       "      <td>0.046625</td>\n",
       "      <td>1.000000</td>\n",
       "      <td>0.053689</td>\n",
       "      <td>0.041856</td>\n",
       "    </tr>\n",
       "    <tr>\n",
       "      <th>yelp</th>\n",
       "      <td>-0.234148</td>\n",
       "      <td>0.067628</td>\n",
       "      <td>0.053689</td>\n",
       "      <td>1.000000</td>\n",
       "      <td>0.782690</td>\n",
       "    </tr>\n",
       "    <tr>\n",
       "      <th>foursquare</th>\n",
       "      <td>-0.231388</td>\n",
       "      <td>-0.002248</td>\n",
       "      <td>0.041856</td>\n",
       "      <td>0.782690</td>\n",
       "      <td>1.000000</td>\n",
       "    </tr>\n",
       "  </tbody>\n",
       "</table>\n",
       "</div>"
      ],
      "text/plain": [
       "            Latitude  Longitude  Free Bikes      yelp  foursquare\n",
       "Latitude    1.000000   0.428331   -0.281735 -0.234148   -0.231388\n",
       "Longitude   0.428331   1.000000    0.046625  0.067628   -0.002248\n",
       "Free Bikes -0.281735   0.046625    1.000000  0.053689    0.041856\n",
       "yelp       -0.234148   0.067628    0.053689  1.000000    0.782690\n",
       "foursquare -0.231388  -0.002248    0.041856  0.782690    1.000000"
      ]
     },
     "execution_count": 7,
     "metadata": {},
     "output_type": "execute_result"
    }
   ],
   "source": [
    "df.corr()\n",
    "## yelp and foursquare are correlated but this is obvious and doesnt help us\n",
    "## The amount of bikes available is not significant"
   ]
  },
  {
   "cell_type": "code",
   "execution_count": 12,
   "metadata": {},
   "outputs": [
    {
     "name": "stdout",
     "output_type": "stream",
     "text": [
      "                            OLS Regression Results                            \n",
      "==============================================================================\n",
      "Dep. Variable:                   yelp   R-squared:                       0.003\n",
      "Model:                            OLS   Adj. R-squared:                  0.000\n",
      "Method:                 Least Squares   F-statistic:                     1.151\n",
      "Date:                Sat, 21 Oct 2023   Prob (F-statistic):              0.284\n",
      "Time:                        12:02:08   Log-Likelihood:                -2525.9\n",
      "No. Observations:                 400   AIC:                             5056.\n",
      "Df Residuals:                     398   BIC:                             5064.\n",
      "Df Model:                           1                                         \n",
      "Covariance Type:            nonrobust                                         \n",
      "==============================================================================\n",
      "                 coef    std err          t      P>|t|      [0.025      0.975]\n",
      "------------------------------------------------------------------------------\n",
      "const        110.7823     10.376     10.677      0.000      90.384     131.180\n",
      "Free Bikes     1.0926      1.019      1.073      0.284      -0.910       3.095\n",
      "==============================================================================\n",
      "Omnibus:                       98.812   Durbin-Watson:                   1.508\n",
      "Prob(Omnibus):                  0.000   Jarque-Bera (JB):              171.695\n",
      "Skew:                           1.474   Prob(JB):                     5.21e-38\n",
      "Kurtosis:                       4.267   Cond. No.                         15.9\n",
      "==============================================================================\n",
      "\n",
      "Notes:\n",
      "[1] Standard Errors assume that the covariance matrix of the errors is correctly specified.\n"
     ]
    }
   ],
   "source": [
    "x = df[['Free Bikes']]\n",
    "y = df['yelp']\n",
    "\n",
    "x = sm.add_constant(x)\n",
    "\n",
    "model = sm.OLS(y, x).fit()\n",
    "predictions = model.predict(x) \n",
    "\n",
    "print_model = model.summary()\n",
    "print(print_model)\n",
    "\n",
    "\n",
    "## Free Bikes has a P score of .284 so it is not statistically significant in predicting the amount of nearby businesses"
   ]
  },
  {
   "cell_type": "code",
   "execution_count": 13,
   "metadata": {},
   "outputs": [
    {
     "name": "stdout",
     "output_type": "stream",
     "text": [
      "                            OLS Regression Results                            \n",
      "==============================================================================\n",
      "Dep. Variable:                   yelp   R-squared:                       0.089\n",
      "Model:                            OLS   Adj. R-squared:                  0.085\n",
      "Method:                 Least Squares   F-statistic:                     19.48\n",
      "Date:                Sat, 21 Oct 2023   Prob (F-statistic):           8.52e-09\n",
      "Time:                        12:04:34   Log-Likelihood:                -2507.7\n",
      "No. Observations:                 400   AIC:                             5021.\n",
      "Df Residuals:                     397   BIC:                             5033.\n",
      "Df Model:                           2                                         \n",
      "Covariance Type:            nonrobust                                         \n",
      "==============================================================================\n",
      "                 coef    std err          t      P>|t|      [0.025      0.975]\n",
      "------------------------------------------------------------------------------\n",
      "const       1.112e+05   1.86e+04      5.973      0.000    7.46e+04    1.48e+05\n",
      "Latitude   -1623.6552    267.063     -6.080      0.000   -2148.689   -1098.621\n",
      "Longitude    505.6120    130.310      3.880      0.000     249.428     761.796\n",
      "==============================================================================\n",
      "Omnibus:                       79.955   Durbin-Watson:                   1.527\n",
      "Prob(Omnibus):                  0.000   Jarque-Bera (JB):              124.315\n",
      "Skew:                           1.285   Prob(JB):                     1.01e-27\n",
      "Kurtosis:                       3.922   Cond. No.                     2.63e+05\n",
      "==============================================================================\n",
      "\n",
      "Notes:\n",
      "[1] Standard Errors assume that the covariance matrix of the errors is correctly specified.\n",
      "[2] The condition number is large, 2.63e+05. This might indicate that there are\n",
      "strong multicollinearity or other numerical problems.\n"
     ]
    }
   ],
   "source": [
    "x = df[['Latitude','Longitude']]\n",
    "y = df['yelp']\n",
    "\n",
    "x = sm.add_constant(x)\n",
    "\n",
    "model = sm.OLS(y, x).fit()\n",
    "predictions = model.predict(x) \n",
    "\n",
    "print_model = model.summary()\n",
    "print(print_model)\n",
    "\n",
    "## Latitude and Longitude are strongly correlated with number of nearby businesses"
   ]
  },
  {
   "cell_type": "markdown",
   "metadata": {},
   "source": [
    "# Stretch"
   ]
  },
  {
   "cell_type": "markdown",
   "metadata": {},
   "source": [
    "How can you turn the regression model into a classification model?"
   ]
  },
  {
   "cell_type": "markdown",
   "metadata": {},
   "source": [
    "- You could take the average number of yelp/foursquare results, and classify each station as having an above or below average amount of nearby businesses"
   ]
  }
 ],
 "metadata": {
  "kernelspec": {
   "display_name": "Python 3",
   "language": "python",
   "name": "python3"
  },
  "language_info": {
   "codemirror_mode": {
    "name": "ipython",
    "version": 3
   },
   "file_extension": ".py",
   "mimetype": "text/x-python",
   "name": "python",
   "nbconvert_exporter": "python",
   "pygments_lexer": "ipython3",
   "version": "3.12.0"
  }
 },
 "nbformat": 4,
 "nbformat_minor": 4
}
