{
 "cells": [
  {
   "cell_type": "markdown",
   "metadata": {},
   "source": [
    "Build a regression model."
   ]
  },
  {
   "cell_type": "code",
   "execution_count": 1,
   "metadata": {},
   "outputs": [],
   "source": [
    "## Get the data back from sql and import the needed packages\n",
    "import sqlite3\n",
    "import pandas as pd\n",
    "import statsmodels.api as sm\n",
    "conn = sqlite3.connect('mydatabase')\n",
    "fulldf=pd.read_sql('select * from bike_stations b join yelp y on b.Station_Number = y.Nearest_Station join foursquare f on f.Nearest_Station = b.Station_Number', conn)\n",
    "fulldf = fulldf.drop(columns=['Nearest_Station']) \n",
    "## fulldf is now a full dataframe with latitude, longitude, free_bikes, total yelp results, and total foursquare results\n",
    "\n",
    "\n",
    "\n",
    "\n",
    "\n",
    "\n"
   ]
  },
  {
   "cell_type": "markdown",
   "metadata": {},
   "source": [
    "Model Building"
   ]
  },
  {
   "cell_type": "code",
   "execution_count": 12,
   "metadata": {},
   "outputs": [
    {
     "name": "stdout",
     "output_type": "stream",
     "text": [
      "                            OLS Regression Results                            \n",
      "==============================================================================\n",
      "Dep. Variable:                   yelp   R-squared:                       0.003\n",
      "Model:                            OLS   Adj. R-squared:                  0.000\n",
      "Method:                 Least Squares   F-statistic:                     1.151\n",
      "Date:                Sat, 21 Oct 2023   Prob (F-statistic):              0.284\n",
      "Time:                        12:02:08   Log-Likelihood:                -2525.9\n",
      "No. Observations:                 400   AIC:                             5056.\n",
      "Df Residuals:                     398   BIC:                             5064.\n",
      "Df Model:                           1                                         \n",
      "Covariance Type:            nonrobust                                         \n",
      "==============================================================================\n",
      "                 coef    std err          t      P>|t|      [0.025      0.975]\n",
      "------------------------------------------------------------------------------\n",
      "const        110.7823     10.376     10.677      0.000      90.384     131.180\n",
      "Free Bikes     1.0926      1.019      1.073      0.284      -0.910       3.095\n",
      "==============================================================================\n",
      "Omnibus:                       98.812   Durbin-Watson:                   1.508\n",
      "Prob(Omnibus):                  0.000   Jarque-Bera (JB):              171.695\n",
      "Skew:                           1.474   Prob(JB):                     5.21e-38\n",
      "Kurtosis:                       4.267   Cond. No.                         15.9\n",
      "==============================================================================\n",
      "\n",
      "Notes:\n",
      "[1] Standard Errors assume that the covariance matrix of the errors is correctly specified.\n"
     ]
    }
   ],
   "source": [
    "x = fulldf['Free Bikes']\n",
    "y = fulldf['Yelp_Results']\n",
    "\n",
    "x = sm.add_constant(x)\n",
    "\n",
    "model = sm.OLS(y, x).fit()\n",
    "predictions = model.predict(x) \n",
    "\n",
    "print_model = model.summary()\n",
    "print(print_model)\n",
    "\n",
    "\n",
    "## Free Bikes has a P score of .284 so it is not statistically significant in predicting the amount of nearby businesses, confirming our thoughts from the correlation matrix"
   ]
  },
  {
   "cell_type": "code",
   "execution_count": 3,
   "metadata": {},
   "outputs": [
    {
     "name": "stdout",
     "output_type": "stream",
     "text": [
      "                            OLS Regression Results                            \n",
      "==============================================================================\n",
      "Dep. Variable:             foursquare   R-squared:                       0.002\n",
      "Model:                            OLS   Adj. R-squared:                 -0.001\n",
      "Method:                 Least Squares   F-statistic:                    0.6985\n",
      "Date:                Fri, 27 Oct 2023   Prob (F-statistic):              0.404\n",
      "Time:                        23:07:14   Log-Likelihood:                -1534.0\n",
      "No. Observations:                 400   AIC:                             3072.\n",
      "Df Residuals:                     398   BIC:                             3080.\n",
      "Df Model:                           1                                         \n",
      "Covariance Type:            nonrobust                                         \n",
      "==============================================================================\n",
      "                 coef    std err          t      P>|t|      [0.025      0.975]\n",
      "------------------------------------------------------------------------------\n",
      "const         18.6930      0.869     21.505      0.000      16.984      20.402\n",
      "Free Bikes     0.0713      0.085      0.836      0.404      -0.096       0.239\n",
      "==============================================================================\n",
      "Omnibus:                       38.823   Durbin-Watson:                   1.734\n",
      "Prob(Omnibus):                  0.000   Jarque-Bera (JB):               48.362\n",
      "Skew:                           0.851   Prob(JB):                     3.15e-11\n",
      "Kurtosis:                       3.051   Cond. No.                         15.9\n",
      "==============================================================================\n",
      "\n",
      "Notes:\n",
      "[1] Standard Errors assume that the covariance matrix of the errors is correctly specified.\n"
     ]
    }
   ],
   "source": [
    "x = fulldf[['Free Bikes']]\n",
    "y = fulldf['Foursquare_Results']\n",
    "\n",
    "x = sm.add_constant(x)\n",
    "\n",
    "model = sm.OLS(y, x).fit()\n",
    "predictions = model.predict(x) \n",
    "\n",
    "print_model = model.summary()\n",
    "print(print_model)\n",
    "## same thing but with foursquare as the independent variable instead of yelp, same results"
   ]
  },
  {
   "cell_type": "code",
   "execution_count": 2,
   "metadata": {},
   "outputs": [
    {
     "name": "stdout",
     "output_type": "stream",
     "text": [
      "                            OLS Regression Results                            \n",
      "==============================================================================\n",
      "Dep. Variable:                   yelp   R-squared:                       0.089\n",
      "Model:                            OLS   Adj. R-squared:                  0.085\n",
      "Method:                 Least Squares   F-statistic:                     19.48\n",
      "Date:                Wed, 25 Oct 2023   Prob (F-statistic):           8.52e-09\n",
      "Time:                        16:15:48   Log-Likelihood:                -2507.7\n",
      "No. Observations:                 400   AIC:                             5021.\n",
      "Df Residuals:                     397   BIC:                             5033.\n",
      "Df Model:                           2                                         \n",
      "Covariance Type:            nonrobust                                         \n",
      "==============================================================================\n",
      "                 coef    std err          t      P>|t|      [0.025      0.975]\n",
      "------------------------------------------------------------------------------\n",
      "const       1.112e+05   1.86e+04      5.973      0.000    7.46e+04    1.48e+05\n",
      "Latitude   -1623.6552    267.063     -6.080      0.000   -2148.689   -1098.621\n",
      "Longitude    505.6120    130.310      3.880      0.000     249.428     761.796\n",
      "==============================================================================\n",
      "Omnibus:                       79.955   Durbin-Watson:                   1.527\n",
      "Prob(Omnibus):                  0.000   Jarque-Bera (JB):              124.315\n",
      "Skew:                           1.285   Prob(JB):                     1.01e-27\n",
      "Kurtosis:                       3.922   Cond. No.                     2.63e+05\n",
      "==============================================================================\n",
      "\n",
      "Notes:\n",
      "[1] Standard Errors assume that the covariance matrix of the errors is correctly specified.\n",
      "[2] The condition number is large, 2.63e+05. This might indicate that there are\n",
      "strong multicollinearity or other numerical problems.\n"
     ]
    }
   ],
   "source": [
    "x = fulldf[['Latitude','Longitude']]\n",
    "y = fulldf['Yelp_Results']\n",
    "\n",
    "x = sm.add_constant(x)\n",
    "\n",
    "model = sm.OLS(y, x).fit()\n",
    "predictions = model.predict(x) \n",
    "\n",
    "print_model = model.summary()\n",
    "print(print_model)\n",
    "\n",
    "\n",
    "## Our hypothesis is proven,\n",
    "## Latitude and Longitude both have a p-value of 0 which means they are statistically significant in predicing the amount of nearby businesses\n",
    "## This could probably be used for any latitude and longitude, not just bike stations"
   ]
  },
  {
   "cell_type": "code",
   "execution_count": 2,
   "metadata": {},
   "outputs": [
    {
     "name": "stdout",
     "output_type": "stream",
     "text": [
      "                            OLS Regression Results                            \n",
      "==============================================================================\n",
      "Dep. Variable:             foursquare   R-squared:                       0.065\n",
      "Model:                            OLS   Adj. R-squared:                  0.060\n",
      "Method:                 Least Squares   F-statistic:                     13.81\n",
      "Date:                Fri, 27 Oct 2023   Prob (F-statistic):           1.60e-06\n",
      "Time:                        22:49:55   Log-Likelihood:                -1520.9\n",
      "No. Observations:                 400   AIC:                             3048.\n",
      "Df Residuals:                     397   BIC:                             3060.\n",
      "Df Model:                           2                                         \n",
      "Covariance Type:            nonrobust                                         \n",
      "==============================================================================\n",
      "                 coef    std err          t      P>|t|      [0.025      0.975]\n",
      "------------------------------------------------------------------------------\n",
      "const       7156.5086   1578.944      4.532      0.000    4052.371    1.03e+04\n",
      "Latitude    -119.0564     22.658     -5.255      0.000    -163.600     -74.513\n",
      "Longitude     24.4199     11.055      2.209      0.028       2.685      46.155\n",
      "==============================================================================\n",
      "Omnibus:                       33.443   Durbin-Watson:                   1.758\n",
      "Prob(Omnibus):                  0.000   Jarque-Bera (JB):               40.442\n",
      "Skew:                           0.778   Prob(JB):                     1.65e-09\n",
      "Kurtosis:                       2.918   Cond. No.                     2.63e+05\n",
      "==============================================================================\n",
      "\n",
      "Notes:\n",
      "[1] Standard Errors assume that the covariance matrix of the errors is correctly specified.\n",
      "[2] The condition number is large, 2.63e+05. This might indicate that there are\n",
      "strong multicollinearity or other numerical problems.\n"
     ]
    }
   ],
   "source": [
    "x = fulldf[['Latitude','Longitude']]\n",
    "y = fulldf['foursquare']\n",
    "\n",
    "x = sm.add_constant(x)\n",
    "\n",
    "model = sm.OLS(y, x).fit()\n",
    "predictions = model.predict(x) \n",
    "\n",
    "print_model = model.summary()\n",
    "print(print_model)\n",
    "\n",
    "## same thing but with foursquare as the independent variable instead of yelp"
   ]
  },
  {
   "cell_type": "markdown",
   "metadata": {},
   "source": [
    "SUMMARY\n",
    "\n",
    "Using the amount of free bikes to predict the number of nearby businesses has a p-score of .284 and .404 for yelp and foursquare, with r-squared zero, so it is not statistically significant\n",
    "\n",
    "Using Latitude and longitude to predict the number of nearby businesses has p-score of 0, so the relationship is significant even though r squared isnt great.\n",
    "We could probably extrapolate this to use any latitude/longitude, not just ones from bike stations, to predict how many businesses are nearby."
   ]
  },
  {
   "cell_type": "markdown",
   "metadata": {},
   "source": [
    "# Stretch"
   ]
  },
  {
   "cell_type": "markdown",
   "metadata": {},
   "source": [
    "How can you turn the regression model into a classification model?"
   ]
  },
  {
   "cell_type": "markdown",
   "metadata": {},
   "source": [
    "- You could take the average number of yelp/foursquare results, and classify each station as having an above or below average amount of nearby businesses"
   ]
  }
 ],
 "metadata": {
  "kernelspec": {
   "display_name": "Python 3",
   "language": "python",
   "name": "python3"
  },
  "language_info": {
   "codemirror_mode": {
    "name": "ipython",
    "version": 3
   },
   "file_extension": ".py",
   "mimetype": "text/x-python",
   "name": "python",
   "nbconvert_exporter": "python",
   "pygments_lexer": "ipython3",
   "version": "3.12.0"
  }
 },
 "nbformat": 4,
 "nbformat_minor": 4
}
